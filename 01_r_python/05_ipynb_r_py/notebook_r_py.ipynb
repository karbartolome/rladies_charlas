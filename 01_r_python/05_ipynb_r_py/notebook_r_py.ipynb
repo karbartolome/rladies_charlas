{
 "cells": [
  {
   "cell_type": "markdown",
   "metadata": {},
   "source": [
    "## 1. Librerías y configuración incial"
   ]
  },
  {
   "cell_type": "code",
   "execution_count": 8,
   "metadata": {},
   "outputs": [
    {
     "name": "stderr",
     "output_type": "stream",
     "text": [
      "Unable to determine R library path: Command '('C:\\\\PROGRA~1\\\\R\\\\R-41~1.0\\\\bin\\\\Rscript', '-e', 'cat(Sys.getenv(\"LD_LIBRARY_PATH\"))')' returned non-zero exit status 1.\n",
      "C:\\Users\\karin\\ANACON~1\\envs\\rladies\\lib\\site-packages\\rpy2\\robjects\\packages.py:366: UserWarning: The symbol 'quartz' is not in this R namespace/package.\n",
      "  warnings.warn(\n"
     ]
    }
   ],
   "source": [
    "import pandas as pd             # manipulación de datos\n",
    "import numpy as np              # manipulación de datos\n",
    "import matplotlib.pyplot as plt # visualización\n",
    "import seaborn as sns           # visualización\n",
    "\n",
    "#!pip install rpy2\n",
    "from rpy2.robjects.packages import importr\n",
    "import rpy2.robjects.lib.ggplot2 as ggplot2\n",
    "import rpy2.robjects as ro\n",
    "%load_ext rpy2.ipython\n",
    "base = importr('base')"
   ]
  },
  {
   "cell_type": "code",
   "execution_count": 4,
   "metadata": {},
   "outputs": [],
   "source": [
    "from pathlib import Path\n",
    "import os\n",
    "p = Path(os.getcwd()).parent\n",
    "path_data = f'{p}/02_slides/data/df_arg_mx.csv'.replace('\\\\','/')"
   ]
  },
  {
   "cell_type": "code",
   "execution_count": 56,
   "metadata": {},
   "outputs": [],
   "source": [
    "import pandas as pd\n",
    "from sklearn.preprocessing import StandardScaler\n",
    "df = pd.read_csv(path_data)\n",
    "df['expo_netas_pos'] = np.where(df['trade_value_usd_exp']-df['trade_value_usd_imp']>0,1,0)\n",
    "scaler = StandardScaler()\n",
    "df['expo_scaled'] = scaler.fit_transform(df[['trade_value_usd_exp']])"
   ]
  },
  {
   "cell_type": "code",
   "execution_count": 88,
   "metadata": {},
   "outputs": [
    {
     "name": "stderr",
     "output_type": "stream",
     "text": [
      "R[write to console]: `geom_smooth()` using formula 'y ~ x'\n",
      "\n"
     ]
    },
    {
     "data": {
      "image/png": "[encoded data removed]"
     },
     "metadata": {},
     "output_type": "display_data"
    }
   ],
   "source": [
    "%%R -i df -w 20 -h 8 --units cm\n",
    "options(scipen=999)\n",
    "library(\"tidyverse\")\n",
    "\n",
    "df %>% \n",
    "    filter(expo_scaled <= quantile(expo_scaled,0.99)) %>%\n",
    "    group_by(expo_netas_pos) %>%\n",
    "    mutate(promedio = mean(expo_scaled)) %>% \n",
    "    ungroup() %>%\n",
    "    ggplot(aes(x=expo_scaled, y=expo_netas_pos)) + \n",
    "        geom_point(size=2, color='black', alpha=0.1)+\n",
    "        geom_smooth(method = \"glm\", method.args = list(family = \"binomial\"), se = FALSE, color='green') +\n",
    "        geom_vline(aes(xintercept=promedio, color=factor(expo_netas_pos, levels=c('1','0'))))+\n",
    "        labs(title=\"R en ipyynb con kernel python (:\", color='Promedio según exportador neto')+\n",
    "        scale_color_manual(values=c('red','blue'))+\n",
    "        theme_minimal()+\n",
    "        theme(legend.position='bottom')\n"
   ]
  },
  {
   "cell_type": "code",
   "execution_count": null,
   "metadata": {},
   "outputs": [],
   "source": []
  },
  {
   "cell_type": "code",
   "execution_count": null,
   "metadata": {},
   "outputs": [],
   "source": [
    "%%R -i weather -w 15 -h 10 --units cm\n",
    "\n",
    "informe <- \"c:/Users/karin/Documents/Proyectos/rladies_charlas/01_r_python/03_markdown/r_python_parametrizado.Rmd\"\n",
    "\n",
    "rmarkdown::render(\n",
    "    informe,\n",
    "    params = list(\n",
    "        param1 = 'Este es un NUEVO parametro'\n",
    "    )\n",
    ")"
   ]
  }
 ],
 "metadata": {
  "interpreter": {
   "hash": "499071eec139e71f43461056c92022e2a1f54fc620f75f38fd021ac9fb220f91"
  },
  "kernelspec": {
   "display_name": "Python 3.9.5 ('env-gral')",
   "language": "python",
   "name": "python3"
  },
  "language_info": {
   "codemirror_mode": {
    "name": "ipython",
    "version": 3
   },
   "file_extension": ".py",
   "mimetype": "text/x-python",
   "name": "python",
   "nbconvert_exporter": "python",
   "pygments_lexer": "ipython3",
   "version": "3.8.8"
  },
  "orig_nbformat": 4
 },
 "nbformat": 4,
 "nbformat_minor": 2
}
