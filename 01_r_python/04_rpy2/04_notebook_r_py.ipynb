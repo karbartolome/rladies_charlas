{
  "cells": [
    {
      "cell_type": "markdown",
      "metadata": {
        "id": "nthBJ8Ml0zaW"
      },
      "source": [
        "## 1. Librerías y configuración incial"
      ]
    },
    {
      "cell_type": "code",
      "execution_count": 14,
      "metadata": {
        "id": "dsuZh96u5QpI"
      },
      "outputs": [],
      "source": [
        "#!pip install rpy2"
      ]
    },
    {
      "cell_type": "code",
      "execution_count": 15,
      "metadata": {
        "id": "EiWnfQ7k0zad"
      },
      "outputs": [],
      "source": [
        "import pandas as pd             # manipulación de datos\n",
        "import numpy as np              # manipulación de datos"
      ]
    },
    {
      "cell_type": "code",
      "execution_count": 16,
      "metadata": {
        "id": "_dk9Gl_-3oiq"
      },
      "outputs": [
        {
          "name": "stdout",
          "output_type": "stream",
          "text": [
            "The rpy2.ipython extension is already loaded. To reload it, use:\n",
            "  %reload_ext rpy2.ipython\n"
          ]
        }
      ],
      "source": [
        "%load_ext rpy2.ipython"
      ]
    },
    {
      "cell_type": "code",
      "execution_count": 17,
      "metadata": {
        "id": "ZhzsP7Ky6otw"
      },
      "outputs": [],
      "source": [
        "%%R \n",
        "library(tidyverse)"
      ]
    },
    {
      "cell_type": "code",
      "execution_count": 28,
      "metadata": {
        "colab": {
          "base_uri": "https://localhost:8080/"
        },
        "id": "wD62LbfOG4D8",
        "outputId": "a785acbf-7078-425b-e2cc-3fb6b71f0992"
      },
      "outputs": [
        {
          "name": "stdout",
          "output_type": "stream",
          "text": [
            "NULL\n"
          ]
        }
      ],
      "source": [
        "%%R\n",
        "#.libPaths()"
      ]
    },
    {
      "cell_type": "markdown",
      "metadata": {
        "id": "nIjwbQ7J0zai"
      },
      "source": [
        "# 2. Datos\n",
        "\n",
        "Los datos son del paquete AER, los subí al repo para leer directo sin tener que instalar el paquete. "
      ]
    },
    {
      "cell_type": "code",
      "execution_count": 19,
      "metadata": {
        "id": "DeXGUxeM0zaj"
      },
      "outputs": [
        {
          "name": "stdout",
          "output_type": "stream",
          "text": [
            "\n",
            "-- Column specification --------------------------------------------------------\n",
            "cols(\n",
            "  district = col_double(),\n",
            "  school = col_character(),\n",
            "  county = col_character(),\n",
            "  grades = col_character(),\n",
            "  students = col_double(),\n",
            "  teachers = col_double(),\n",
            "  calworks = col_double(),\n",
            "  lunch = col_double(),\n",
            "  computer = col_double(),\n",
            "  expenditure = col_double(),\n",
            "  income = col_double(),\n",
            "  english = col_double(),\n",
            "  read = col_double(),\n",
            "  math = col_double()\n",
            ")\n",
            "\n"
          ]
        }
      ],
      "source": [
        "%%R -o CASchools \n",
        "CASchools <- readr::read_csv('https://raw.githubusercontent.com/karbartolome/rladies_charlas/main/01_r_python/02_slides/data/CASchools.csv')"
      ]
    },
    {
      "cell_type": "markdown",
      "metadata": {
        "id": "b_Bni88z0zak"
      },
      "source": [
        "# 3. Modelo\n",
        "\n",
        "Se busca predecir el desempeño en matemática en función de ciertas variables:"
      ]
    },
    {
      "cell_type": "code",
      "execution_count": 20,
      "metadata": {
        "colab": {
          "base_uri": "https://localhost:8080/",
          "height": 191
        },
        "id": "HebU83Gp0zak",
        "outputId": "e78f78ff-8b0a-4fc8-d800-421880728615"
      },
      "outputs": [
        {
          "data": {
            "text/html": [
              "<div>\n",
              "<style scoped>\n",
              "    .dataframe tbody tr th:only-of-type {\n",
              "        vertical-align: middle;\n",
              "    }\n",
              "\n",
              "    .dataframe tbody tr th {\n",
              "        vertical-align: top;\n",
              "    }\n",
              "\n",
              "    .dataframe thead th {\n",
              "        text-align: right;\n",
              "    }\n",
              "</style>\n",
              "<table border=\"1\" class=\"dataframe\">\n",
              "  <thead>\n",
              "    <tr style=\"text-align: right;\">\n",
              "      <th></th>\n",
              "      <th>district</th>\n",
              "      <th>school</th>\n",
              "      <th>county</th>\n",
              "      <th>grades</th>\n",
              "      <th>students</th>\n",
              "      <th>teachers</th>\n",
              "      <th>calworks</th>\n",
              "      <th>lunch</th>\n",
              "      <th>computer</th>\n",
              "      <th>expenditure</th>\n",
              "      <th>income</th>\n",
              "      <th>english</th>\n",
              "      <th>read</th>\n",
              "      <th>math</th>\n",
              "    </tr>\n",
              "  </thead>\n",
              "  <tbody>\n",
              "    <tr>\n",
              "      <th>1</th>\n",
              "      <td>75119.0</td>\n",
              "      <td>Sunol Glen Unified</td>\n",
              "      <td>Alameda</td>\n",
              "      <td>KK-08</td>\n",
              "      <td>195.0</td>\n",
              "      <td>10.90</td>\n",
              "      <td>0.5102</td>\n",
              "      <td>2.040800</td>\n",
              "      <td>67.0</td>\n",
              "      <td>6384.911133</td>\n",
              "      <td>22.690001</td>\n",
              "      <td>0.000000</td>\n",
              "      <td>691.599976</td>\n",
              "      <td>690.000000</td>\n",
              "    </tr>\n",
              "    <tr>\n",
              "      <th>2</th>\n",
              "      <td>61499.0</td>\n",
              "      <td>Manzanita Elementary</td>\n",
              "      <td>Butte</td>\n",
              "      <td>KK-08</td>\n",
              "      <td>240.0</td>\n",
              "      <td>11.15</td>\n",
              "      <td>15.4167</td>\n",
              "      <td>47.916698</td>\n",
              "      <td>101.0</td>\n",
              "      <td>5099.380859</td>\n",
              "      <td>9.824000</td>\n",
              "      <td>4.583333</td>\n",
              "      <td>660.500000</td>\n",
              "      <td>661.900024</td>\n",
              "    </tr>\n",
              "  </tbody>\n",
              "</table>\n",
              "</div>"
            ],
            "text/plain": [
              "   district                school   county grades  students  teachers  \\\n",
              "1   75119.0    Sunol Glen Unified  Alameda  KK-08     195.0     10.90   \n",
              "2   61499.0  Manzanita Elementary    Butte  KK-08     240.0     11.15   \n",
              "\n",
              "   calworks      lunch  computer  expenditure     income   english  \\\n",
              "1    0.5102   2.040800      67.0  6384.911133  22.690001  0.000000   \n",
              "2   15.4167  47.916698     101.0  5099.380859   9.824000  4.583333   \n",
              "\n",
              "         read        math  \n",
              "1  691.599976  690.000000  \n",
              "2  660.500000  661.900024  "
            ]
          },
          "execution_count": 20,
          "metadata": {},
          "output_type": "execute_result"
        }
      ],
      "source": [
        "CASchools.head(2)"
      ]
    },
    {
      "cell_type": "code",
      "execution_count": 21,
      "metadata": {
        "id": "yzCS38f10zam"
      },
      "outputs": [],
      "source": [
        "#CASchools.describe(include='all').transpose()"
      ]
    },
    {
      "cell_type": "code",
      "execution_count": 22,
      "metadata": {
        "colab": {
          "base_uri": "https://localhost:8080/",
          "height": 112
        },
        "id": "1be_vC0W0zao",
        "outputId": "026f4cf5-cc64-48e1-a867-349da22c39fe"
      },
      "outputs": [
        {
          "data": {
            "text/html": [
              "<div>\n",
              "<style scoped>\n",
              "    .dataframe tbody tr th:only-of-type {\n",
              "        vertical-align: middle;\n",
              "    }\n",
              "\n",
              "    .dataframe tbody tr th {\n",
              "        vertical-align: top;\n",
              "    }\n",
              "\n",
              "    .dataframe thead th {\n",
              "        text-align: right;\n",
              "    }\n",
              "</style>\n",
              "<table border=\"1\" class=\"dataframe\">\n",
              "  <thead>\n",
              "    <tr style=\"text-align: right;\">\n",
              "      <th></th>\n",
              "      <th>math</th>\n",
              "      <th>tamaño</th>\n",
              "      <th>expenditure</th>\n",
              "      <th>students</th>\n",
              "      <th>lunch</th>\n",
              "      <th>teachers</th>\n",
              "      <th>calworks</th>\n",
              "      <th>income</th>\n",
              "      <th>english</th>\n",
              "    </tr>\n",
              "  </thead>\n",
              "  <tbody>\n",
              "    <tr>\n",
              "      <th>1</th>\n",
              "      <td>690.000000</td>\n",
              "      <td>17.889909</td>\n",
              "      <td>6384.911133</td>\n",
              "      <td>195.0</td>\n",
              "      <td>2.040800</td>\n",
              "      <td>10.90</td>\n",
              "      <td>0.5102</td>\n",
              "      <td>22.690001</td>\n",
              "      <td>0.000000</td>\n",
              "    </tr>\n",
              "    <tr>\n",
              "      <th>2</th>\n",
              "      <td>661.900024</td>\n",
              "      <td>21.524664</td>\n",
              "      <td>5099.380859</td>\n",
              "      <td>240.0</td>\n",
              "      <td>47.916698</td>\n",
              "      <td>11.15</td>\n",
              "      <td>15.4167</td>\n",
              "      <td>9.824000</td>\n",
              "      <td>4.583333</td>\n",
              "    </tr>\n",
              "  </tbody>\n",
              "</table>\n",
              "</div>"
            ],
            "text/plain": [
              "         math     tamaño  expenditure  students      lunch  teachers  \\\n",
              "1  690.000000  17.889909  6384.911133     195.0   2.040800     10.90   \n",
              "2  661.900024  21.524664  5099.380859     240.0  47.916698     11.15   \n",
              "\n",
              "   calworks     income   english  \n",
              "1    0.5102  22.690001  0.000000  \n",
              "2   15.4167   9.824000  4.583333  "
            ]
          },
          "execution_count": 22,
          "metadata": {},
          "output_type": "execute_result"
        }
      ],
      "source": [
        "df = (CASchools \n",
        "    .assign(tamaño = lambda x: x['students']/x['teachers'])\n",
        "    \n",
        "    [['math','tamaño','expenditure','students','lunch','teachers','calworks','income','english']]\n",
        "\n",
        "    .copy()\n",
        ")\n",
        "\n",
        "df.head(2)"
      ]
    },
    {
      "cell_type": "code",
      "execution_count": 23,
      "metadata": {
        "id": "xim9-lJS0zaq"
      },
      "outputs": [],
      "source": [
        "from sklearn.model_selection import train_test_split\n",
        "from sklearn.pipeline import Pipeline\n",
        "from sklearn.impute import SimpleImputer\n",
        "from sklearn.preprocessing import StandardScaler\n",
        "from sklearn.ensemble import RandomForestRegressor\n",
        "\n",
        "X = df.drop('math',axis=1).copy()\n",
        "y = df['math']\n",
        "\n",
        "X_train, X_test, y_train, y_test = train_test_split(X, y, test_size=0.25, random_state=42)\n",
        "\n",
        "pipe = Pipeline([\n",
        "  ('imputador',      SimpleImputer(strategy='constant', fill_value= 0)),\n",
        "  ('scaler',         StandardScaler()), \n",
        "  ('random_forest',  RandomForestRegressor(n_estimators=100, random_state=42))\n",
        "])\n",
        "  \n",
        "pipe.fit(X_train, y_train)\n",
        "modelo = pipe['random_forest']"
      ]
    },
    {
      "cell_type": "code",
      "execution_count": 24,
      "metadata": {
        "colab": {
          "base_uri": "https://localhost:8080/",
          "height": 300
        },
        "id": "CK-oZpsE0zat",
        "outputId": "c74a76b9-44f7-49ff-ea63-083e51a5be9b"
      },
      "outputs": [
        {
          "data": {
            "text/html": [
              "<div>\n",
              "<style scoped>\n",
              "    .dataframe tbody tr th:only-of-type {\n",
              "        vertical-align: middle;\n",
              "    }\n",
              "\n",
              "    .dataframe tbody tr th {\n",
              "        vertical-align: top;\n",
              "    }\n",
              "\n",
              "    .dataframe thead th {\n",
              "        text-align: right;\n",
              "    }\n",
              "</style>\n",
              "<table border=\"1\" class=\"dataframe\">\n",
              "  <thead>\n",
              "    <tr style=\"text-align: right;\">\n",
              "      <th></th>\n",
              "      <th>variable</th>\n",
              "      <th>importancia</th>\n",
              "    </tr>\n",
              "  </thead>\n",
              "  <tbody>\n",
              "    <tr>\n",
              "      <th>3</th>\n",
              "      <td>lunch</td>\n",
              "      <td>0.672462</td>\n",
              "    </tr>\n",
              "    <tr>\n",
              "      <th>6</th>\n",
              "      <td>income</td>\n",
              "      <td>0.107199</td>\n",
              "    </tr>\n",
              "    <tr>\n",
              "      <th>5</th>\n",
              "      <td>calworks</td>\n",
              "      <td>0.061918</td>\n",
              "    </tr>\n",
              "    <tr>\n",
              "      <th>0</th>\n",
              "      <td>tamaño</td>\n",
              "      <td>0.036401</td>\n",
              "    </tr>\n",
              "    <tr>\n",
              "      <th>7</th>\n",
              "      <td>english</td>\n",
              "      <td>0.034881</td>\n",
              "    </tr>\n",
              "    <tr>\n",
              "      <th>1</th>\n",
              "      <td>expenditure</td>\n",
              "      <td>0.033323</td>\n",
              "    </tr>\n",
              "    <tr>\n",
              "      <th>2</th>\n",
              "      <td>students</td>\n",
              "      <td>0.027200</td>\n",
              "    </tr>\n",
              "    <tr>\n",
              "      <th>4</th>\n",
              "      <td>teachers</td>\n",
              "      <td>0.026616</td>\n",
              "    </tr>\n",
              "  </tbody>\n",
              "</table>\n",
              "</div>"
            ],
            "text/plain": [
              "      variable  importancia\n",
              "3        lunch     0.672462\n",
              "6       income     0.107199\n",
              "5     calworks     0.061918\n",
              "0       tamaño     0.036401\n",
              "7      english     0.034881\n",
              "1  expenditure     0.033323\n",
              "2     students     0.027200\n",
              "4     teachers     0.026616"
            ]
          },
          "execution_count": 24,
          "metadata": {},
          "output_type": "execute_result"
        }
      ],
      "source": [
        "importancia = pd.DataFrame({'variable':X_train.columns,\n",
        "              'importancia':modelo.feature_importances_})\n",
        "\n",
        "importancia.sort_values('importancia',ascending=False)"
      ]
    },
    {
      "cell_type": "markdown",
      "metadata": {
        "id": "gsJlxwnY0zau"
      },
      "source": [
        "Predicciones en test"
      ]
    },
    {
      "cell_type": "code",
      "execution_count": 25,
      "metadata": {
        "colab": {
          "base_uri": "https://localhost:8080/",
          "height": 423
        },
        "id": "l7kuzyra0zav",
        "outputId": "cc689aba-2e3b-45b5-ecff-f1cc2fc85a42"
      },
      "outputs": [
        {
          "data": {
            "text/html": [
              "<div>\n",
              "<style scoped>\n",
              "    .dataframe tbody tr th:only-of-type {\n",
              "        vertical-align: middle;\n",
              "    }\n",
              "\n",
              "    .dataframe tbody tr th {\n",
              "        vertical-align: top;\n",
              "    }\n",
              "\n",
              "    .dataframe thead th {\n",
              "        text-align: right;\n",
              "    }\n",
              "</style>\n",
              "<table border=\"1\" class=\"dataframe\">\n",
              "  <thead>\n",
              "    <tr style=\"text-align: right;\">\n",
              "      <th></th>\n",
              "      <th>math</th>\n",
              "      <th>math_pred</th>\n",
              "    </tr>\n",
              "  </thead>\n",
              "  <tbody>\n",
              "    <tr>\n",
              "      <th>146</th>\n",
              "      <td>643.400024</td>\n",
              "      <td>639.953995</td>\n",
              "    </tr>\n",
              "    <tr>\n",
              "      <th>335</th>\n",
              "      <td>674.099976</td>\n",
              "      <td>651.174002</td>\n",
              "    </tr>\n",
              "    <tr>\n",
              "      <th>176</th>\n",
              "      <td>646.500000</td>\n",
              "      <td>645.716995</td>\n",
              "    </tr>\n",
              "    <tr>\n",
              "      <th>370</th>\n",
              "      <td>673.200012</td>\n",
              "      <td>662.256003</td>\n",
              "    </tr>\n",
              "    <tr>\n",
              "      <th>417</th>\n",
              "      <td>709.500000</td>\n",
              "      <td>690.240001</td>\n",
              "    </tr>\n",
              "    <tr>\n",
              "      <th>...</th>\n",
              "      <td>...</td>\n",
              "      <td>...</td>\n",
              "    </tr>\n",
              "    <tr>\n",
              "      <th>266</th>\n",
              "      <td>663.599976</td>\n",
              "      <td>659.889999</td>\n",
              "    </tr>\n",
              "    <tr>\n",
              "      <th>17</th>\n",
              "      <td>624.400024</td>\n",
              "      <td>622.005999</td>\n",
              "    </tr>\n",
              "    <tr>\n",
              "      <th>389</th>\n",
              "      <td>684.900024</td>\n",
              "      <td>663.837000</td>\n",
              "    </tr>\n",
              "    <tr>\n",
              "      <th>249</th>\n",
              "      <td>663.200012</td>\n",
              "      <td>658.199002</td>\n",
              "    </tr>\n",
              "    <tr>\n",
              "      <th>303</th>\n",
              "      <td>661.500000</td>\n",
              "      <td>669.635999</td>\n",
              "    </tr>\n",
              "  </tbody>\n",
              "</table>\n",
              "<p>105 rows × 2 columns</p>\n",
              "</div>"
            ],
            "text/plain": [
              "           math   math_pred\n",
              "146  643.400024  639.953995\n",
              "335  674.099976  651.174002\n",
              "176  646.500000  645.716995\n",
              "370  673.200012  662.256003\n",
              "417  709.500000  690.240001\n",
              "..          ...         ...\n",
              "266  663.599976  659.889999\n",
              "17   624.400024  622.005999\n",
              "389  684.900024  663.837000\n",
              "249  663.200012  658.199002\n",
              "303  661.500000  669.635999\n",
              "\n",
              "[105 rows x 2 columns]"
            ]
          },
          "execution_count": 25,
          "metadata": {},
          "output_type": "execute_result"
        }
      ],
      "source": [
        "preds_test = pd.DataFrame({'math':y_test, \n",
        "                           'math_pred':pipe.predict(X_test)\n",
        "                           })\n",
        "\n",
        "preds_test"
      ]
    },
    {
      "cell_type": "markdown",
      "metadata": {
        "id": "wmPD462G0zaw"
      },
      "source": [
        "# 4. Visualización de resultados"
      ]
    },
    {
      "cell_type": "code",
      "execution_count": 26,
      "metadata": {
        "id": "bdJTAhOO0zax",
        "outputId": "c5ca6cd9-6b14-4464-b7b0-532dced3bf2e"
      },
      "outputs": [
        {
          "data": {
            "image/png": "[encoded data removed]"
          },
          "metadata": {},
          "output_type": "display_data"
        }
      ],
      "source": [
        "%%R -i preds_test -w 20 -h 10 --units cm\n",
        "\n",
        "library(tidyverse)\n",
        "\n",
        "preds_test %>% \n",
        "  ggplot(aes(x=math, y=math_pred))+\n",
        "  geom_point()+\n",
        "  geom_abline(intercept=0, slope=1, color='red')+\n",
        "  labs(title = \"Desempeño en matemática: predicción vs valores observados\")+\n",
        "  theme_minimal()\n"
      ]
    },
    {
      "cell_type": "code",
      "execution_count": 27,
      "metadata": {
        "id": "WObG0zSz0zay",
        "outputId": "3586f98b-c489-410d-83d0-f43b04fd275b"
      },
      "outputs": [
        {
          "data": {
            "image/png": "[encoded data removed]"
          },
          "metadata": {},
          "output_type": "display_data"
        }
      ],
      "source": [
        "%%R -w 20 -h 10 --units cm\n",
        "\n",
        "library(tidyverse)\n",
        "\n",
        "CASchools %>% \n",
        "  ggplot(aes(x=lunch, y=math, color=income))+\n",
        "  geom_point()+\n",
        "  scale_color_gradient(low='lightgrey',  high='blue')+\n",
        "  labs(title = \"Desempeño en matemática según % de alumnos con precio de almuerzo reducido\")+\n",
        "  theme_minimal()"
      ]
    }
  ],
  "metadata": {
    "colab": {
      "name": "04_notebook_r_py.ipynb",
      "provenance": []
    },
    "interpreter": {
      "hash": "499071eec139e71f43461056c92022e2a1f54fc620f75f38fd021ac9fb220f91"
    },
    "kernelspec": {
      "display_name": "Python 3.9.5 ('env-gral')",
      "language": "python",
      "name": "python3"
    },
    "language_info": {
      "codemirror_mode": {
        "name": "ipython",
        "version": 3
      },
      "file_extension": ".py",
      "mimetype": "text/x-python",
      "name": "python",
      "nbconvert_exporter": "python",
      "pygments_lexer": "ipython3",
      "version": "3.9.5"
    },
    "orig_nbformat": 4
  },
  "nbformat": 4,
  "nbformat_minor": 0
}
