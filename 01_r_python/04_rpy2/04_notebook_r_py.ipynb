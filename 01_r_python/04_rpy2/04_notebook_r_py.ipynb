{
 "cells": [
  {
   "cell_type": "markdown",
   "metadata": {},
   "source": [
    "## 1. Librerías y configuración incial"
   ]
  },
  {
   "cell_type": "code",
   "execution_count": 2,
   "metadata": {},
   "outputs": [
    {
     "name": "stdout",
     "output_type": "stream",
     "text": [
      "The rpy2.ipython extension is already loaded. To reload it, use:\n",
      "  %reload_ext rpy2.ipython\n"
     ]
    }
   ],
   "source": [
    "import pandas as pd             # manipulación de datos\n",
    "import numpy as np              # manipulación de datos\n",
    "import matplotlib.pyplot as plt # visualización\n",
    "import seaborn as sns           # visualización\n",
    "\n",
    "#!pip install rpy2\n",
    "from rpy2.robjects.packages import importr\n",
    "import rpy2.robjects.lib.ggplot2 as ggplot2\n",
    "import rpy2.robjects as ro\n",
    "%load_ext rpy2.ipython\n",
    "base = importr('base')"
   ]
  },
  {
   "cell_type": "markdown",
   "metadata": {},
   "source": [
    "# 2. Datos"
   ]
  },
  {
   "cell_type": "code",
   "execution_count": 4,
   "metadata": {},
   "outputs": [],
   "source": [
    "%%R -o CASchools \n",
    "library(AER)\n",
    "data(CASchools)"
   ]
  },
  {
   "cell_type": "markdown",
   "metadata": {},
   "source": [
    "# 3. Modelo"
   ]
  },
  {
   "cell_type": "code",
   "execution_count": 5,
   "metadata": {},
   "outputs": [
    {
     "data": {
      "text/html": [
       "<div>\n",
       "<style scoped>\n",
       "    .dataframe tbody tr th:only-of-type {\n",
       "        vertical-align: middle;\n",
       "    }\n",
       "\n",
       "    .dataframe tbody tr th {\n",
       "        vertical-align: top;\n",
       "    }\n",
       "\n",
       "    .dataframe thead th {\n",
       "        text-align: right;\n",
       "    }\n",
       "</style>\n",
       "<table border=\"1\" class=\"dataframe\">\n",
       "  <thead>\n",
       "    <tr style=\"text-align: right;\">\n",
       "      <th></th>\n",
       "      <th>district</th>\n",
       "      <th>school</th>\n",
       "      <th>county</th>\n",
       "      <th>grades</th>\n",
       "      <th>students</th>\n",
       "      <th>teachers</th>\n",
       "      <th>calworks</th>\n",
       "      <th>lunch</th>\n",
       "      <th>computer</th>\n",
       "      <th>expenditure</th>\n",
       "      <th>income</th>\n",
       "      <th>english</th>\n",
       "      <th>read</th>\n",
       "      <th>math</th>\n",
       "    </tr>\n",
       "  </thead>\n",
       "  <tbody>\n",
       "    <tr>\n",
       "      <th>1</th>\n",
       "      <td>75119</td>\n",
       "      <td>Sunol Glen Unified</td>\n",
       "      <td>1</td>\n",
       "      <td>2</td>\n",
       "      <td>195.0</td>\n",
       "      <td>10.90</td>\n",
       "      <td>0.5102</td>\n",
       "      <td>2.040800</td>\n",
       "      <td>67.0</td>\n",
       "      <td>6384.911133</td>\n",
       "      <td>22.690001</td>\n",
       "      <td>0.000000</td>\n",
       "      <td>691.599976</td>\n",
       "      <td>690.000000</td>\n",
       "    </tr>\n",
       "    <tr>\n",
       "      <th>2</th>\n",
       "      <td>61499</td>\n",
       "      <td>Manzanita Elementary</td>\n",
       "      <td>2</td>\n",
       "      <td>2</td>\n",
       "      <td>240.0</td>\n",
       "      <td>11.15</td>\n",
       "      <td>15.4167</td>\n",
       "      <td>47.916698</td>\n",
       "      <td>101.0</td>\n",
       "      <td>5099.380859</td>\n",
       "      <td>9.824000</td>\n",
       "      <td>4.583333</td>\n",
       "      <td>660.500000</td>\n",
       "      <td>661.900024</td>\n",
       "    </tr>\n",
       "  </tbody>\n",
       "</table>\n",
       "</div>"
      ],
      "text/plain": [
       "  district                school  county  grades  students  teachers  \\\n",
       "1    75119    Sunol Glen Unified       1       2     195.0     10.90   \n",
       "2    61499  Manzanita Elementary       2       2     240.0     11.15   \n",
       "\n",
       "   calworks      lunch  computer  expenditure     income   english  \\\n",
       "1    0.5102   2.040800      67.0  6384.911133  22.690001  0.000000   \n",
       "2   15.4167  47.916698     101.0  5099.380859   9.824000  4.583333   \n",
       "\n",
       "         read        math  \n",
       "1  691.599976  690.000000  \n",
       "2  660.500000  661.900024  "
      ]
     },
     "execution_count": 5,
     "metadata": {},
     "output_type": "execute_result"
    }
   ],
   "source": [
    "CASchools.head(2)"
   ]
  },
  {
   "cell_type": "code",
   "execution_count": 81,
   "metadata": {},
   "outputs": [],
   "source": [
    "#CASchools.describe(include='all').transpose()"
   ]
  },
  {
   "cell_type": "code",
   "execution_count": 6,
   "metadata": {},
   "outputs": [
    {
     "data": {
      "text/html": [
       "<div>\n",
       "<style scoped>\n",
       "    .dataframe tbody tr th:only-of-type {\n",
       "        vertical-align: middle;\n",
       "    }\n",
       "\n",
       "    .dataframe tbody tr th {\n",
       "        vertical-align: top;\n",
       "    }\n",
       "\n",
       "    .dataframe thead th {\n",
       "        text-align: right;\n",
       "    }\n",
       "</style>\n",
       "<table border=\"1\" class=\"dataframe\">\n",
       "  <thead>\n",
       "    <tr style=\"text-align: right;\">\n",
       "      <th></th>\n",
       "      <th>math</th>\n",
       "      <th>tamaño</th>\n",
       "      <th>expenditure</th>\n",
       "      <th>county</th>\n",
       "      <th>students</th>\n",
       "      <th>lunch</th>\n",
       "      <th>teachers</th>\n",
       "      <th>calworks</th>\n",
       "      <th>income</th>\n",
       "      <th>english</th>\n",
       "    </tr>\n",
       "  </thead>\n",
       "  <tbody>\n",
       "    <tr>\n",
       "      <th>1</th>\n",
       "      <td>690.000000</td>\n",
       "      <td>17.889909</td>\n",
       "      <td>6384.911133</td>\n",
       "      <td>1</td>\n",
       "      <td>195.0</td>\n",
       "      <td>2.040800</td>\n",
       "      <td>10.90</td>\n",
       "      <td>0.5102</td>\n",
       "      <td>22.690001</td>\n",
       "      <td>0.000000</td>\n",
       "    </tr>\n",
       "    <tr>\n",
       "      <th>2</th>\n",
       "      <td>661.900024</td>\n",
       "      <td>21.524664</td>\n",
       "      <td>5099.380859</td>\n",
       "      <td>2</td>\n",
       "      <td>240.0</td>\n",
       "      <td>47.916698</td>\n",
       "      <td>11.15</td>\n",
       "      <td>15.4167</td>\n",
       "      <td>9.824000</td>\n",
       "      <td>4.583333</td>\n",
       "    </tr>\n",
       "  </tbody>\n",
       "</table>\n",
       "</div>"
      ],
      "text/plain": [
       "         math     tamaño  expenditure  county  students      lunch  teachers  \\\n",
       "1  690.000000  17.889909  6384.911133       1     195.0   2.040800     10.90   \n",
       "2  661.900024  21.524664  5099.380859       2     240.0  47.916698     11.15   \n",
       "\n",
       "   calworks     income   english  \n",
       "1    0.5102  22.690001  0.000000  \n",
       "2   15.4167   9.824000  4.583333  "
      ]
     },
     "execution_count": 6,
     "metadata": {},
     "output_type": "execute_result"
    }
   ],
   "source": [
    "df = (CASchools \n",
    "    .assign(tamaño = lambda x: x['students']/x['teachers'])\n",
    "    \n",
    "    [['math','tamaño','expenditure','county','students','lunch','teachers','calworks','income','english']]\n",
    "\n",
    "    .copy()\n",
    ")\n",
    "\n",
    "df.head(2)"
   ]
  },
  {
   "cell_type": "code",
   "execution_count": 7,
   "metadata": {},
   "outputs": [],
   "source": [
    "from sklearn.model_selection import train_test_split\n",
    "from sklearn.pipeline import Pipeline\n",
    "from sklearn.impute import SimpleImputer\n",
    "from sklearn.preprocessing import StandardScaler\n",
    "from sklearn.ensemble import RandomForestRegressor\n",
    "\n",
    "X = df.drop('math',axis=1).copy()\n",
    "y = df['math']\n",
    "\n",
    "X_train, X_test, y_train, y_test = train_test_split(X, y, test_size=0.25, random_state=42)\n",
    "\n",
    "pipe = Pipeline([\n",
    "  ('imputador',      SimpleImputer(strategy='constant', fill_value= 0)),\n",
    "  ('scaler',         StandardScaler()), \n",
    "  ('random_forest',  RandomForestRegressor(n_estimators=100, random_state=42))\n",
    "])\n",
    "  \n",
    "pipe.fit(X_train, y_train)\n",
    "modelo = pipe['random_forest']"
   ]
  },
  {
   "cell_type": "code",
   "execution_count": 8,
   "metadata": {},
   "outputs": [
    {
     "data": {
      "text/html": [
       "<div>\n",
       "<style scoped>\n",
       "    .dataframe tbody tr th:only-of-type {\n",
       "        vertical-align: middle;\n",
       "    }\n",
       "\n",
       "    .dataframe tbody tr th {\n",
       "        vertical-align: top;\n",
       "    }\n",
       "\n",
       "    .dataframe thead th {\n",
       "        text-align: right;\n",
       "    }\n",
       "</style>\n",
       "<table border=\"1\" class=\"dataframe\">\n",
       "  <thead>\n",
       "    <tr style=\"text-align: right;\">\n",
       "      <th></th>\n",
       "      <th>variable</th>\n",
       "      <th>importancia</th>\n",
       "    </tr>\n",
       "  </thead>\n",
       "  <tbody>\n",
       "    <tr>\n",
       "      <th>4</th>\n",
       "      <td>lunch</td>\n",
       "      <td>0.669572</td>\n",
       "    </tr>\n",
       "    <tr>\n",
       "      <th>7</th>\n",
       "      <td>income</td>\n",
       "      <td>0.102139</td>\n",
       "    </tr>\n",
       "    <tr>\n",
       "      <th>6</th>\n",
       "      <td>calworks</td>\n",
       "      <td>0.058608</td>\n",
       "    </tr>\n",
       "    <tr>\n",
       "      <th>0</th>\n",
       "      <td>tamaño</td>\n",
       "      <td>0.032455</td>\n",
       "    </tr>\n",
       "    <tr>\n",
       "      <th>8</th>\n",
       "      <td>english</td>\n",
       "      <td>0.030558</td>\n",
       "    </tr>\n",
       "    <tr>\n",
       "      <th>1</th>\n",
       "      <td>expenditure</td>\n",
       "      <td>0.030240</td>\n",
       "    </tr>\n",
       "    <tr>\n",
       "      <th>2</th>\n",
       "      <td>county</td>\n",
       "      <td>0.026429</td>\n",
       "    </tr>\n",
       "    <tr>\n",
       "      <th>3</th>\n",
       "      <td>students</td>\n",
       "      <td>0.026116</td>\n",
       "    </tr>\n",
       "    <tr>\n",
       "      <th>5</th>\n",
       "      <td>teachers</td>\n",
       "      <td>0.023882</td>\n",
       "    </tr>\n",
       "  </tbody>\n",
       "</table>\n",
       "</div>"
      ],
      "text/plain": [
       "      variable  importancia\n",
       "4        lunch     0.669572\n",
       "7       income     0.102139\n",
       "6     calworks     0.058608\n",
       "0       tamaño     0.032455\n",
       "8      english     0.030558\n",
       "1  expenditure     0.030240\n",
       "2       county     0.026429\n",
       "3     students     0.026116\n",
       "5     teachers     0.023882"
      ]
     },
     "execution_count": 8,
     "metadata": {},
     "output_type": "execute_result"
    }
   ],
   "source": [
    "importancia = pd.DataFrame({'variable':X_train.columns,\n",
    "              'importancia':modelo.feature_importances_})\n",
    "\n",
    "importancia.sort_values('importancia',ascending=False)"
   ]
  },
  {
   "cell_type": "markdown",
   "metadata": {},
   "source": [
    "Predicciones en test"
   ]
  },
  {
   "cell_type": "code",
   "execution_count": 9,
   "metadata": {},
   "outputs": [
    {
     "data": {
      "text/html": [
       "<div>\n",
       "<style scoped>\n",
       "    .dataframe tbody tr th:only-of-type {\n",
       "        vertical-align: middle;\n",
       "    }\n",
       "\n",
       "    .dataframe tbody tr th {\n",
       "        vertical-align: top;\n",
       "    }\n",
       "\n",
       "    .dataframe thead th {\n",
       "        text-align: right;\n",
       "    }\n",
       "</style>\n",
       "<table border=\"1\" class=\"dataframe\">\n",
       "  <thead>\n",
       "    <tr style=\"text-align: right;\">\n",
       "      <th></th>\n",
       "      <th>math</th>\n",
       "      <th>math_pred</th>\n",
       "    </tr>\n",
       "  </thead>\n",
       "  <tbody>\n",
       "    <tr>\n",
       "      <th>146</th>\n",
       "      <td>643.400024</td>\n",
       "      <td>640.752996</td>\n",
       "    </tr>\n",
       "    <tr>\n",
       "      <th>335</th>\n",
       "      <td>674.099976</td>\n",
       "      <td>652.215995</td>\n",
       "    </tr>\n",
       "  </tbody>\n",
       "</table>\n",
       "</div>"
      ],
      "text/plain": [
       "           math   math_pred\n",
       "146  643.400024  640.752996\n",
       "335  674.099976  652.215995"
      ]
     },
     "execution_count": 9,
     "metadata": {},
     "output_type": "execute_result"
    }
   ],
   "source": [
    "preds_test = pd.DataFrame({'math':y_test, \n",
    "              'math_pred':pipe.predict(X_test)})\n",
    "\n",
    "preds_test.head(2)"
   ]
  },
  {
   "cell_type": "markdown",
   "metadata": {},
   "source": [
    "# 4. Visualización de resultados"
   ]
  },
  {
   "cell_type": "code",
   "execution_count": 11,
   "metadata": {},
   "outputs": [
    {
     "data": {
      "image/png": "[encoded data removed]"
     },
     "metadata": {},
     "output_type": "display_data"
    }
   ],
   "source": [
    "%%R -i preds_test -w 20 -h 10 --units cm\n",
    "\n",
    "library(tidyverse)\n",
    "\n",
    "preds_test %>% \n",
    "  ggplot(aes(x=math, y=math_pred))+\n",
    "  geom_point()+\n",
    "  geom_abline(intercept=0, slope=1, color='red')+\n",
    "  labs(title = \"Desempeño en matemática: predicción vs valores observados\")+\n",
    "  theme_minimal()\n",
    "\n"
   ]
  },
  {
   "cell_type": "code",
   "execution_count": 12,
   "metadata": {},
   "outputs": [
    {
     "data": {
      "image/png": "[encoded data removed]"
     },
     "metadata": {},
     "output_type": "display_data"
    }
   ],
   "source": [
    "%%R -w 20 -h 10 --units cm\n",
    "\n",
    "library(tidyverse)\n",
    "\n",
    "CASchools %>% \n",
    "  ggplot(aes(x=lunch, y=math, color=income))+\n",
    "  geom_point()+\n",
    "  scale_color_gradient(low='lightgrey',  high='blue')+\n",
    "  labs(title = \"Desempeño en matemática según % de alumnos con precio de almuerzo reducido\")+\n",
    "  theme_minimal()"
   ]
  }
 ],
 "metadata": {
  "interpreter": {
   "hash": "499071eec139e71f43461056c92022e2a1f54fc620f75f38fd021ac9fb220f91"
  },
  "kernelspec": {
   "display_name": "Python 3.9.5 ('env-gral')",
   "language": "python",
   "name": "python3"
  },
  "language_info": {
   "codemirror_mode": {
    "name": "ipython",
    "version": 3
   },
   "file_extension": ".py",
   "mimetype": "text/x-python",
   "name": "python",
   "nbconvert_exporter": "python",
   "pygments_lexer": "ipython3",
   "version": "3.9.5"
  },
  "orig_nbformat": 4
 },
 "nbformat": 4,
 "nbformat_minor": 2
}
